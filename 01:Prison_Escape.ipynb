{
 "cells": [
  {
   "cell_type": "markdown",
   "id": "19c58edc",
   "metadata": {},
   "source": [
    "# My First Data Science Project"
   ]
  },
  {
   "cell_type": "markdown",
   "id": "13660d66",
   "metadata": {},
   "source": [
    "## Helicopter Prison Escapes: What years were they most popular and in what country"
   ]
  },
  {
   "cell_type": "markdown",
   "id": "64af241a",
   "metadata": {},
   "source": [
    "#### Wikipedia has a page decicated to prison escapes by helicopter ([List of helicopter prison escapes](https://en.wikipedia.org/wiki/List_of_helicopter_prison_escapes))\n",
    "\n",
    "#### The wiki page contains a dataframe with information about each escape. Date, Prison name, Country, Whether they succeeded or not, the escapee, and details of the escape\n",
    "\n",
    "#### For my first DataQuest data science project, I will be determining which year(s) were most popular for helicopter escapes. And, which country had the most escapes.\n",
    "#### Spoiler alert: 1986, 2001, 2007, 2009, and France with 15 since 1971"
   ]
  },
  {
   "cell_type": "markdown",
   "id": "c8a3f489",
   "metadata": {},
   "source": [
    "We begin by importing some helper functions, although I will later bypass these helper functions provided by DataQuest"
   ]
  },
  {
   "cell_type": "code",
   "execution_count": 19,
   "id": "245d6e40",
   "metadata": {},
   "outputs": [],
   "source": [
    "from helper import * # dataquest helper functions, which I will bypass now that I have learned more\n"
   ]
  },
  {
   "cell_type": "markdown",
   "id": "ae85fb0e",
   "metadata": {},
   "source": [
    "Now, let's get the data from the [List of helicopter prison escapes](https://en.wikipedia.org/wiki/List_of_helicopter_prison_escapes) Wikipedia article."
   ]
  },
  {
   "cell_type": "code",
   "execution_count": 22,
   "id": "9472d61b",
   "metadata": {
    "scrolled": false
   },
   "outputs": [
    {
     "name": "stdout",
     "output_type": "stream",
     "text": [
      "[['August 19, 1971', 'Santa Martha Acatitla', 'Mexico', 'Yes', 'Joel David Kaplan Carlos Antonio Contreras Castro', \"Joel David Kaplan was a New York businessman who had been arrested for murder in 1962 in Mexico City and was incarcerated at the Santa Martha Acatitla prison in the Iztapalapa borough of Mexico City. Joel's sister, Judy Kaplan, arranged the means to help Kaplan escape, and on August 19, 1971, a helicopter landed in the prison yard. The guards mistakenly thought this was an official visit. In two minutes, Kaplan and his cellmate Carlos Antonio Contreras, a Venezuelan counterfeiter, were able to board the craft and were piloted away, before any shots were fired.[9] Both men were flown to Texas and then different planes flew Kaplan to California and Contreras to Guatemala.[3] The Mexican government never initiated extradition proceedings against Kaplan.[9] The escape is told in a book, The 10-Second Jailbreak: The Helicopter Escape of Joel David Kaplan.[4] It also inspired the 1975 action movie Breakout, which starred Charles Bronson and Robert Duvall.[9]\"], ['October 31, 1973', 'Mountjoy Jail', 'Ireland', 'Yes', \"JB O'Hagan Seamus TwomeyKevin Mallon\", 'On October 31, 1973, an IRA member hijacked a helicopter and forced the pilot to land in the exercise yard of Dublin\\'s Mountjoy Jail\\'s D Wing at 3:40\\xa0p.m., October 31, 1973. Three members of the IRA were able to escape: JB O\\'Hagan, Seamus Twomey and Kevin Mallon. Another prisoner who also was in the prison was quoted as saying, \"One shamefaced screw apologised to the governor and said he thought it was the new Minister for Defence (Paddy Donegan) arriving. I told him it was our Minister of Defence leaving.\" The Mountjoy helicopter escape became Republican lore and was immortalized by \"The Helicopter Song\", which contains the lines \"It\\'s up like a bird and over the city. There\\'s three men a\\'missing I heard the warder say\".[1]'], ['May 24, 1978', 'United States Penitentiary, Marion', 'United States', 'No', 'Garrett Brock TrapnellMartin Joseph McNallyJames Kenneth Johnson', \"43-year-old Barbara Ann Oswald hijacked a Saint Louis-based charter helicopter and forced the pilot to land in the yard at USP Marion. While landing the aircraft, the pilot, Allen Barklage, who was a Vietnam War veteran, struggled with Oswald and managed to wrestle the gun away from her. Barklage then shot and killed Oswald, thwarting the escape.[10] A few months later Oswald's daughter hijacked TWA Flight 541 in an effort to free Trapnell.\"]]\n"
     ]
    }
   ],
   "source": [
    "url = 'https://en.wikipedia.org/wiki/List_of_helicopter_prison_escapes'\n",
    "# data = data_from_url(url) # DataQuest helper function\n",
    "\n",
    "## to achieve this without dataquests built helper function\n",
    "import pandas as pd\n",
    "df = pd.read_html(url)[1]\n",
    "\n",
    "# Dataset in project was a list of lists and not a dataframe\n",
    "data = df.to_numpy().tolist()\n",
    "print(data[:3])\n"
   ]
  },
  {
   "cell_type": "markdown",
   "id": "ea008ae8",
   "metadata": {},
   "source": [
    "The 'Details' column contains a long text description of the event which we will not be addressing in this project: therefore I will exlude last column"
   ]
  },
  {
   "cell_type": "code",
   "execution_count": 23,
   "id": "ed9df104",
   "metadata": {},
   "outputs": [],
   "source": [
    "index = 0\n",
    "for row in data:\n",
    "    data[index] = row[:-1]\n",
    "    index += 1\n",
    "    "
   ]
  },
  {
   "cell_type": "markdown",
   "id": "aacbbe75",
   "metadata": {},
   "source": [
    "### Most escape attempts per year"
   ]
  },
  {
   "cell_type": "code",
   "execution_count": 24,
   "id": "f3e1a644",
   "metadata": {},
   "outputs": [
    {
     "name": "stdout",
     "output_type": "stream",
     "text": [
      "[['August 19, 1971', 'Santa Martha Acatitla', 'Mexico', 'Yes', 'Joel David Kaplan Carlos Antonio Contreras Castro'], ['October 31, 1973', 'Mountjoy Jail', 'Ireland', 'Yes', \"JB O'Hagan Seamus TwomeyKevin Mallon\"], ['May 24, 1978', 'United States Penitentiary, Marion', 'United States', 'No', 'Garrett Brock TrapnellMartin Joseph McNallyJames Kenneth Johnson']]\n"
     ]
    }
   ],
   "source": [
    "print(data[:3])\n"
   ]
  },
  {
   "cell_type": "code",
   "execution_count": 25,
   "id": "55863913",
   "metadata": {},
   "outputs": [],
   "source": [
    "for row in data:\n",
    "    # row[0] = fetch_year(row[0]) # this helper function converts mo day, year to just year\n",
    "    \n",
    "    row[0] = int(re.findall(\"\\d{4}\", row[0])[0])\n",
    "    "
   ]
  },
  {
   "cell_type": "markdown",
   "id": "c645a5cd",
   "metadata": {},
   "source": [
    "Now let's count the prison escapes over all the years covered in the dataframe"
   ]
  },
  {
   "cell_type": "code",
   "execution_count": 27,
   "id": "183d671c",
   "metadata": {},
   "outputs": [
    {
     "name": "stdout",
     "output_type": "stream",
     "text": [
      "[1971, 1972, 1973, 1974, 1975, 1976, 1977, 1978, 1979, 1980, 1981, 1982, 1983, 1984, 1985, 1986, 1987, 1988, 1989, 1990, 1991, 1992, 1993, 1994, 1995, 1996, 1997, 1998, 1999, 2000, 2001, 2002, 2003, 2004, 2005, 2006, 2007, 2008, 2009, 2010, 2011, 2012, 2013, 2014, 2015, 2016, 2017, 2018, 2019, 2020]\n"
     ]
    }
   ],
   "source": [
    "# creating an index of all the years from min to max\n",
    "\n",
    "min_year = min(data, key=lambda x: x[0])[0]\n",
    "max_year = max(data, key=lambda x: x[0])[0]\n",
    "years = []\n",
    "for y in range(min_year, max_year + 1):\n",
    "    years.append(y)\n",
    "    \n",
    "print(years)\n"
   ]
  },
  {
   "cell_type": "code",
   "execution_count": 28,
   "id": "a27191b4",
   "metadata": {},
   "outputs": [
    {
     "name": "stdout",
     "output_type": "stream",
     "text": [
      "[[1971, 0], [1972, 0], [1973, 0], [1974, 0], [1975, 0], [1976, 0], [1977, 0], [1978, 0], [1979, 0], [1980, 0], [1981, 0], [1982, 0], [1983, 0], [1984, 0], [1985, 0], [1986, 0], [1987, 0], [1988, 0], [1989, 0], [1990, 0], [1991, 0], [1992, 0], [1993, 0], [1994, 0], [1995, 0], [1996, 0], [1997, 0], [1998, 0], [1999, 0], [2000, 0], [2001, 0], [2002, 0], [2003, 0], [2004, 0], [2005, 0], [2006, 0], [2007, 0], [2008, 0], [2009, 0], [2010, 0], [2011, 0], [2012, 0], [2013, 0], [2014, 0], [2015, 0], [2016, 0], [2017, 0], [2018, 0], [2019, 0], [2020, 0]]\n"
     ]
    }
   ],
   "source": [
    "# creating the empty counter\n",
    "\n",
    "attempts_per_year = []\n",
    "for y in years:\n",
    "    attempts_per_year.append([y,0])\n",
    "\n",
    "print(attempts_per_year)\n"
   ]
  },
  {
   "cell_type": "code",
   "execution_count": 29,
   "id": "f166e1ee",
   "metadata": {},
   "outputs": [
    {
     "name": "stdout",
     "output_type": "stream",
     "text": [
      "[[1971, 1], [1972, 0], [1973, 1], [1974, 0], [1975, 0], [1976, 0], [1977, 0], [1978, 1], [1979, 0], [1980, 0], [1981, 2], [1982, 0], [1983, 1], [1984, 0], [1985, 2], [1986, 3], [1987, 1], [1988, 1], [1989, 2], [1990, 1], [1991, 1], [1992, 2], [1993, 1], [1994, 0], [1995, 0], [1996, 1], [1997, 1], [1998, 0], [1999, 1], [2000, 2], [2001, 3], [2002, 2], [2003, 1], [2004, 0], [2005, 2], [2006, 1], [2007, 3], [2008, 0], [2009, 3], [2010, 1], [2011, 0], [2012, 1], [2013, 2], [2014, 1], [2015, 0], [2016, 1], [2017, 0], [2018, 1], [2019, 0], [2020, 1]]\n"
     ]
    }
   ],
   "source": [
    "for row in data:\n",
    "    for ya in attempts_per_year:\n",
    "        y = ya[0]\n",
    "        if row[0] == y:\n",
    "            ya[1] += 1 \n",
    "        \n",
    "print(attempts_per_year)\n"
   ]
  },
  {
   "cell_type": "code",
   "execution_count": 30,
   "id": "a297f968",
   "metadata": {},
   "outputs": [
    {
     "data": {
      "image/png": "[encoded data removed]",
      "text/plain": [
       "<Figure size 648x1080 with 1 Axes>"
      ]
     },
     "metadata": {
      "needs_background": "light"
     },
     "output_type": "display_data"
    }
   ],
   "source": [
    "%matplotlib inline\n",
    "barplot(attempts_per_year)\n"
   ]
  },
  {
   "cell_type": "markdown",
   "id": "4750952b",
   "metadata": {},
   "source": [
    "### The most prison breakout attempts by helicopter occurred in 1986, 2001, 2007, and 2009 with 3 attempts "
   ]
  },
  {
   "cell_type": "markdown",
   "id": "ebcbd085",
   "metadata": {},
   "source": [
    "## Attempts by country"
   ]
  },
  {
   "cell_type": "code",
   "execution_count": 32,
   "id": "0dae380a",
   "metadata": {},
   "outputs": [
    {
     "name": "stdout",
     "output_type": "stream",
     "text": [
      "[[1971, 'Santa Martha Acatitla', 'Mexico', 'Yes', 'Joel David Kaplan Carlos Antonio Contreras Castro'], [1973, 'Mountjoy Jail', 'Ireland', 'Yes', \"JB O'Hagan Seamus TwomeyKevin Mallon\"], [1978, 'United States Penitentiary, Marion', 'United States', 'No', 'Garrett Brock TrapnellMartin Joseph McNallyJames Kenneth Johnson']]\n"
     ]
    }
   ],
   "source": [
    "print(data[:3])\n"
   ]
  },
  {
   "cell_type": "code",
   "execution_count": 40,
   "id": "2bf3f840",
   "metadata": {},
   "outputs": [
    {
     "name": "stdout",
     "output_type": "stream",
     "text": [
      "{'Mexico': 1, 'Ireland': 1, 'United States': 8, 'France': 15, 'Canada': 4, 'Australia': 2, 'Brazil': 2, 'Italy': 1, 'United Kingdom': 2, 'Puerto Rico': 1, 'Chile': 1, 'Netherlands': 1, 'Greece': 4, 'Belgium': 4, 'Russia': 1}\n"
     ]
    }
   ],
   "source": [
    "# count escape attempts by country\n",
    "\n",
    "esc_by_country = {}\n",
    "\n",
    "for row in data:\n",
    "    country = row[2]\n",
    "    if country in esc_by_country:\n",
    "        esc_by_country[country] += 1\n",
    "    else:\n",
    "        esc_by_country[country] = 1\n",
    "print(esc_by_country)    \n",
    "    "
   ]
  },
  {
   "cell_type": "code",
   "execution_count": 74,
   "id": "ce2ded96",
   "metadata": {},
   "outputs": [
    {
     "name": "stdout",
     "output_type": "stream",
     "text": [
      "[['Mexico', 1], ['Ireland', 1], ['Italy', 1], ['Puerto Rico', 1], ['Chile', 1], ['Netherlands', 1], ['Russia', 1], ['Australia', 2], ['Brazil', 2], ['United Kingdom', 2], ['Canada', 4], ['Greece', 4], ['Belgium', 4], ['United States', 8], ['France', 15]]\n"
     ]
    }
   ],
   "source": [
    "# sort attempts by country and convert to list\n",
    "\n",
    "country_max = sorted(esc_by_country, key=lambda x:esc_by_country[x], reverse=False)\n",
    "country_list = []\n",
    "for country in country_max:\n",
    "    country_list.append([country, esc_by_country[country]])\n",
    "print(country_list)\n"
   ]
  },
  {
   "cell_type": "code",
   "execution_count": 75,
   "id": "09159ad4",
   "metadata": {},
   "outputs": [
    {
     "data": {
      "image/png": "[encoded data removed]",
      "text/plain": [
       "<Figure size 648x1080 with 1 Axes>"
      ]
     },
     "metadata": {
      "needs_background": "light"
     },
     "output_type": "display_data"
    }
   ],
   "source": [
    "%matplotlib inline\n",
    "barplot(country_list)\n"
   ]
  },
  {
   "cell_type": "markdown",
   "id": "0e7b36e3",
   "metadata": {},
   "source": [
    "### France has the most escape attempts since 1971"
   ]
  },
  {
   "cell_type": "code",
   "execution_count": null,
   "id": "aefdec1c",
   "metadata": {},
   "outputs": [],
   "source": []
  }
 ],
 "metadata": {
  "kernelspec": {
   "display_name": "Python 3 (ipykernel)",
   "language": "python",
   "name": "python3"
  },
  "language_info": {
   "codemirror_mode": {
    "name": "ipython",
    "version": 3
   },
   "file_extension": ".py",
   "mimetype": "text/x-python",
   "name": "python",
   "nbconvert_exporter": "python",
   "pygments_lexer": "ipython3",
   "version": "3.9.7"
  }
 },
 "nbformat": 4,
 "nbformat_minor": 5
}
